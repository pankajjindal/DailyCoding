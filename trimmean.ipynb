{
  "nbformat": 4,
  "nbformat_minor": 0,
  "metadata": {
    "colab": {
      "name": "trimmean.ipynb",
      "version": "0.3.2",
      "provenance": [],
      "collapsed_sections": [],
      "include_colab_link": true
    },
    "kernelspec": {
      "name": "python3",
      "display_name": "Python 3"
    }
  },
  "cells": [
    {
      "cell_type": "markdown",
      "metadata": {
        "id": "view-in-github",
        "colab_type": "text"
      },
      "source": [
        "<a href=\"https://colab.research.google.com/github/pankajjindal/DailyCoding/blob/master/trimmean.ipynb\" target=\"_parent\"><img src=\"https://colab.research.google.com/assets/colab-badge.svg\" alt=\"Open In Colab\"/></a>"
      ]
    },
    {
      "metadata": {
        "id": "-rWzSoHxwyy0",
        "colab_type": "code",
        "colab": {}
      },
      "cell_type": "code",
      "source": [
        "def trimmean(arr, per):\n",
        "    ratio = per/200\n",
        "    # /100 for easy calculation by *, and /2 for easy adaption to best and worst parts.\n",
        "    cal_sum = 0\n",
        "    # sum value to be calculated to trimmean.\n",
        "    arr.sort()\n",
        "    neg_val = int(len(arr)*ratio)\n",
        "    arr = arr[neg_val:len(arr)-neg_val]\n",
        "    for i in arr:\n",
        "        cal_sum += i\n",
        "    return cal_sum/len(arr)\n"
      ],
      "execution_count": 0,
      "outputs": []
    },
    {
      "metadata": {
        "id": "FpERoy0xw2jc",
        "colab_type": "text"
      },
      "cell_type": "markdown",
      "source": [
        "\"\"\"\n",
        "When make reliable means, we need to neglect best and worst values.\n",
        "For example, when making average score on athletes we need this option.\n",
        "So, this algorithm affixes some percentage to neglect when making mean.\n",
        "For example, if you suggest 20%, it will neglect the best 10% of values\n",
        "and the worst 10% of values.\n",
        "\n",
        "This algorithm takes an array and percentage to neglect. After sorted,\n",
        "if index of array is larger or smaller than desired ratio, we don't\n",
        "compute it.\n",
        "\n",
        "Compleity: O(n)\n",
        "\"\"\""
      ]
    },
    {
      "metadata": {
        "id": "qVVipMtKw1gb",
        "colab_type": "code",
        "colab": {}
      },
      "cell_type": "code",
      "source": [
        "arr=[1,2,3,4,54,3,2,6,7,8,9]"
      ],
      "execution_count": 0,
      "outputs": []
    },
    {
      "metadata": {
        "id": "CMW9ihW4xI1T",
        "colab_type": "code",
        "colab": {
          "base_uri": "https://localhost:8080/",
          "height": 34
        },
        "outputId": "ad37b372-6e37-49a0-d482-a9a68463e403"
      },
      "cell_type": "code",
      "source": [
        "trimmean(arr,20)"
      ],
      "execution_count": 5,
      "outputs": [
        {
          "output_type": "execute_result",
          "data": {
            "text/plain": [
              "4.888888888888889"
            ]
          },
          "metadata": {
            "tags": []
          },
          "execution_count": 5
        }
      ]
    },
    {
      "metadata": {
        "id": "8wFSSAOyxMAQ",
        "colab_type": "code",
        "colab": {}
      },
      "cell_type": "code",
      "source": [
        ""
      ],
      "execution_count": 0,
      "outputs": []
    }
  ]
}