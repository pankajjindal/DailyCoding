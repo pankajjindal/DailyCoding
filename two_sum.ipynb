{
  "nbformat": 4,
  "nbformat_minor": 0,
  "metadata": {
    "colab": {
      "name": "two_sum.ipynb",
      "version": "0.3.2",
      "provenance": [],
      "include_colab_link": true
    },
    "kernelspec": {
      "name": "python3",
      "display_name": "Python 3"
    }
  },
  "cells": [
    {
      "cell_type": "markdown",
      "metadata": {
        "id": "view-in-github",
        "colab_type": "text"
      },
      "source": [
        "<a href=\"https://colab.research.google.com/github/pankajjindal/DailyCoding/blob/master/two_sum.ipynb\" target=\"_parent\"><img src=\"https://colab.research.google.com/assets/colab-badge.svg\" alt=\"Open In Colab\"/></a>"
      ]
    },
    {
      "metadata": {
        "id": "ZD4W3Z3nsRzX",
        "colab_type": "code",
        "colab": {}
      },
      "cell_type": "code",
      "source": [
        "def two_sum(array, target):\n",
        "    dic = {}\n",
        "    for i, num in enumerate(array):\n",
        "        if num in dic:\n",
        "            return dic[num], i\n",
        "        else:\n",
        "            dic[target - num] = i\n",
        "        print(dic)\n",
        "    return None"
      ],
      "execution_count": 0,
      "outputs": []
    },
    {
      "metadata": {
        "id": "52i982QPsTOa",
        "colab_type": "code",
        "colab": {}
      },
      "cell_type": "code",
      "source": [
        "arr=[1,5,7,9,11,13]"
      ],
      "execution_count": 0,
      "outputs": []
    },
    {
      "metadata": {
        "id": "FE5JvPA5sYGP",
        "colab_type": "code",
        "colab": {}
      },
      "cell_type": "code",
      "source": [
        "num=25"
      ],
      "execution_count": 0,
      "outputs": []
    },
    {
      "metadata": {
        "id": "T9eJtiZksZwV",
        "colab_type": "code",
        "colab": {
          "base_uri": "https://localhost:8080/",
          "height": 119
        },
        "outputId": "40a68798-9408-49e2-b155-228586c7dbd6"
      },
      "cell_type": "code",
      "source": [
        "two_sum(arr,num)"
      ],
      "execution_count": 23,
      "outputs": [
        {
          "output_type": "stream",
          "text": [
            "{24: 0}\n",
            "{24: 0, 20: 1}\n",
            "{24: 0, 20: 1, 18: 2}\n",
            "{24: 0, 20: 1, 18: 2, 16: 3}\n",
            "{24: 0, 20: 1, 18: 2, 16: 3, 14: 4}\n",
            "{24: 0, 20: 1, 18: 2, 16: 3, 14: 4, 12: 5}\n"
          ],
          "name": "stdout"
        }
      ]
    },
    {
      "metadata": {
        "id": "7rhaXOMDsc0G",
        "colab_type": "code",
        "colab": {}
      },
      "cell_type": "code",
      "source": [
        ""
      ],
      "execution_count": 0,
      "outputs": []
    }
  ]
}