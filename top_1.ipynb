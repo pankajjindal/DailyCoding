{
  "nbformat": 4,
  "nbformat_minor": 0,
  "metadata": {
    "colab": {
      "name": "top_1.ipynb",
      "version": "0.3.2",
      "provenance": [],
      "include_colab_link": true
    },
    "kernelspec": {
      "name": "python3",
      "display_name": "Python 3"
    }
  },
  "cells": [
    {
      "cell_type": "markdown",
      "metadata": {
        "id": "view-in-github",
        "colab_type": "text"
      },
      "source": [
        "<a href=\"https://colab.research.google.com/github/pankajjindal/DailyCoding/blob/master/top_1.ipynb\" target=\"_parent\"><img src=\"https://colab.research.google.com/assets/colab-badge.svg\" alt=\"Open In Colab\"/></a>"
      ]
    },
    {
      "metadata": {
        "id": "I9x8g2cbyTz9",
        "colab_type": "code",
        "colab": {}
      },
      "cell_type": "code",
      "source": [
        "\"\"\"\n",
        "This algorithm receives an array and returns most_frequent_value\n",
        "Also, sometimes it is possible to have multiple 'most_frequent_value's,\n",
        "so this function returns a list. This result can be used to find a \n",
        "representative value in an array.\n",
        "\n",
        "This algorithm gets an array, makes a dictionary of it,\n",
        " finds the most frequent count, and makes the result list.\n",
        "\n",
        "For example: top_1([1, 1, 2, 2, 3, 4]) will return [1, 2]\n",
        "\n",
        "(TL:DR) Get mathematical Mode\n",
        "Complexity: O(n)\n",
        "\"\"\"\n",
        "def top_1(arr):\n",
        "    values = {}\n",
        "    #reserve each value which first appears on keys\n",
        "    #reserve how many time each value appears by index number on values\n",
        "    result = []\n",
        "    f_val = 0\n",
        "\n",
        "    for i in arr:\n",
        "        if i in values:\n",
        "            values[i] += 1\n",
        "        else:\n",
        "            values[i] = 1\n",
        "\n",
        "    f_val = max(values.values())\n",
        "        \n",
        "    for i in values.keys():\n",
        "        if values[i] == f_val:\n",
        "            result.append(i)\n",
        "        else:\n",
        "            continue\n",
        "    \n",
        "    return result\n",
        "    "
      ],
      "execution_count": 0,
      "outputs": []
    },
    {
      "metadata": {
        "id": "tRpiZ8_JyWu9",
        "colab_type": "code",
        "colab": {}
      },
      "cell_type": "code",
      "source": [
        "def top_1(arr):\n",
        "    values = {}\n",
        "    #reserve each value which first appears on keys\n",
        "    #reserve how many time each value appears by index number on values\n",
        "    result = []\n",
        "    f_val = 0\n",
        "\n",
        "    for i in arr:\n",
        "        if i in values:\n",
        "            values[i] += 1\n",
        "        else:\n",
        "            values[i] = 1\n",
        "        print(values)\n",
        "\n",
        "    f_val = max(values.values())\n",
        "        \n",
        "    for i in values.keys():\n",
        "        if values[i] == f_val:\n",
        "            result.append(i)\n",
        "        else:\n",
        "            continue\n",
        "    \n",
        "    return result"
      ],
      "execution_count": 0,
      "outputs": []
    },
    {
      "metadata": {
        "id": "970vVesYyd3V",
        "colab_type": "code",
        "colab": {}
      },
      "cell_type": "code",
      "source": [
        "arr=[1,3,4,5,3,2,6,7,8,3,2,4,6]"
      ],
      "execution_count": 0,
      "outputs": []
    },
    {
      "metadata": {
        "id": "pQBDMPTGyl7h",
        "colab_type": "code",
        "colab": {
          "base_uri": "https://localhost:8080/",
          "height": 255
        },
        "outputId": "8d89c35a-e763-42c4-8852-28f6132f02a6"
      },
      "cell_type": "code",
      "source": [
        "top_1(arr)"
      ],
      "execution_count": 7,
      "outputs": [
        {
          "output_type": "stream",
          "text": [
            "{1: 1}\n",
            "{1: 1, 3: 1}\n",
            "{1: 1, 3: 1, 4: 1}\n",
            "{1: 1, 3: 1, 4: 1, 5: 1}\n",
            "{1: 1, 3: 2, 4: 1, 5: 1}\n",
            "{1: 1, 3: 2, 4: 1, 5: 1, 2: 1}\n",
            "{1: 1, 3: 2, 4: 1, 5: 1, 2: 1, 6: 1}\n",
            "{1: 1, 3: 2, 4: 1, 5: 1, 2: 1, 6: 1, 7: 1}\n",
            "{1: 1, 3: 2, 4: 1, 5: 1, 2: 1, 6: 1, 7: 1, 8: 1}\n",
            "{1: 1, 3: 3, 4: 1, 5: 1, 2: 1, 6: 1, 7: 1, 8: 1}\n",
            "{1: 1, 3: 3, 4: 1, 5: 1, 2: 2, 6: 1, 7: 1, 8: 1}\n",
            "{1: 1, 3: 3, 4: 2, 5: 1, 2: 2, 6: 1, 7: 1, 8: 1}\n",
            "{1: 1, 3: 3, 4: 2, 5: 1, 2: 2, 6: 2, 7: 1, 8: 1}\n"
          ],
          "name": "stdout"
        },
        {
          "output_type": "execute_result",
          "data": {
            "text/plain": [
              "[3]"
            ]
          },
          "metadata": {
            "tags": []
          },
          "execution_count": 7
        }
      ]
    },
    {
      "metadata": {
        "id": "avhs0tAAyY2J",
        "colab_type": "text"
      },
      "cell_type": "markdown",
      "source": [
        "\"\"\"\n",
        "This algorithm receives an array and returns most_frequent_value\n",
        "Also, sometimes it is possible to have multiple 'most_frequent_value's,\n",
        "so this function returns a list. This result can be used to find a \n",
        "representative value in an array.\n",
        "\n",
        "This algorithm gets an array, makes a dictionary of it,\n",
        " finds the most frequent count, and makes the result list.\n",
        "\n",
        "For example: top_1([1, 1, 2, 2, 3, 4]) will return [1, 2]\n",
        "\n",
        "(TL:DR) Get mathematical Mode\n",
        "Complexity: O(n)\n",
        "\"\"\""
      ]
    }
  ]
}