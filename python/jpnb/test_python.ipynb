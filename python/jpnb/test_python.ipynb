{
 "cells": [
  {
   "cell_type": "code",
   "execution_count": 1,
   "metadata": {},
   "outputs": [],
   "source": [
    "import numpy as np\n"
   ]
  },
  {
   "cell_type": "code",
   "execution_count": 2,
   "metadata": {},
   "outputs": [],
   "source": [
    "def cube(no):\n",
    "    return no*no*no;"
   ]
  },
  {
   "cell_type": "code",
   "execution_count": 3,
   "metadata": {},
   "outputs": [
    {
     "data": {
      "text/plain": [
       "27000"
      ]
     },
     "execution_count": 3,
     "metadata": {},
     "output_type": "execute_result"
    }
   ],
   "source": [
    "cube(30)"
   ]
  },
  {
   "cell_type": "code",
   "execution_count": 37,
   "metadata": {},
   "outputs": [],
   "source": [
    "def maleTall(is_male, is_tall):\n",
    "    if is_male and is_tall:\n",
    "        print(\" he is male \" + str(is_male)+ \" he is tall \" + str(is_tall))\n",
    "    elif is_male and not(is_tall):\n",
    "        print( \"he is male \" + str(is_male)+ \" he is not tall \" + str(is_tall))\n",
    "    elif not(is_male) and is_tall:\n",
    "        print( \"he is not male \" + str(is_male)+ \" he is  tall \" + str(is_tall))\n",
    "    elif not(is_male) and not(is_tall):\n",
    "        print( \"he is not male \" + str(is_male)+ \" he is not tall \" + str(is_tall))"
   ]
  },
  {
   "cell_type": "code",
   "execution_count": 38,
   "metadata": {},
   "outputs": [
    {
     "name": "stdout",
     "output_type": "stream",
     "text": [
      " he is male True he is tall True\n"
     ]
    }
   ],
   "source": [
    "maleTall(True,True)"
   ]
  },
  {
   "cell_type": "code",
   "execution_count": 39,
   "metadata": {},
   "outputs": [
    {
     "name": "stdout",
     "output_type": "stream",
     "text": [
      "he is male True he is not tall False\n"
     ]
    }
   ],
   "source": [
    "maleTall(True,False)"
   ]
  },
  {
   "cell_type": "code",
   "execution_count": 40,
   "metadata": {},
   "outputs": [
    {
     "name": "stdout",
     "output_type": "stream",
     "text": [
      "he is not male False he is not tall False\n"
     ]
    }
   ],
   "source": [
    "maleTall(False,False)"
   ]
  },
  {
   "cell_type": "code",
   "execution_count": 41,
   "metadata": {},
   "outputs": [
    {
     "name": "stdout",
     "output_type": "stream",
     "text": [
      "he is not male False he is  tall True\n"
     ]
    }
   ],
   "source": [
    "maleTall(False,True)"
   ]
  },
  {
   "cell_type": "code",
   "execution_count": null,
   "metadata": {},
   "outputs": [],
   "source": []
  }
 ],
 "metadata": {
  "kernelspec": {
   "display_name": "Python [conda env:PankajEnv]",
   "language": "python",
   "name": "conda-env-PankajEnv-py"
  },
  "language_info": {
   "codemirror_mode": {
    "name": "ipython",
    "version": 3
   },
   "file_extension": ".py",
   "mimetype": "text/x-python",
   "name": "python",
   "nbconvert_exporter": "python",
   "pygments_lexer": "ipython3",
   "version": "3.7.1"
  }
 },
 "nbformat": 4,
 "nbformat_minor": 2
}
