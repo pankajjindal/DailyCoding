{
 "cells": [
  {
   "cell_type": "code",
   "execution_count": 32,
   "metadata": {},
   "outputs": [],
   "source": [
    "class Student:\n",
    "    def __init__(self, name, rollno, major, is_active, gpa):\n",
    "        self.name = name;\n",
    "        self.rollno = rollno\n",
    "        self.major = major\n",
    "        self.is_active = is_active\n",
    "        self.gpa = gpa\n",
    "    \n",
    "    def honor_roll(self):\n",
    "        if self.gpa > 3.5:\n",
    "            print(\"student is honor_roll\")\n",
    "        else:\n",
    "            print(\"student is not honor_roll\")\n"
   ]
  },
  {
   "cell_type": "code",
   "execution_count": 33,
   "metadata": {},
   "outputs": [],
   "source": [
    "students  = [\n",
    "    Student(\"Pankaj\", 23472, \"science\", True, 4.5),\n",
    "    Student(\"Ram\", 23572, \"STEM\", True, 3.5),\n",
    "    Student(\"Shyam\", 246572, \"STEM\", True, 3.6),\n",
    "    Student(\"Mary\", 245572, \"STEM\", True, 4.6)\n",
    "]"
   ]
  },
  {
   "cell_type": "code",
   "execution_count": 34,
   "metadata": {},
   "outputs": [
    {
     "name": "stdout",
     "output_type": "stream",
     "text": [
      "student is honor_roll\n"
     ]
    }
   ],
   "source": [
    "students[0].honor_roll()"
   ]
  },
  {
   "cell_type": "code",
   "execution_count": 39,
   "metadata": {},
   "outputs": [],
   "source": [
    "def check_honor_roll(students):\n",
    "    for s in students:\n",
    "        print(\"name \"+s.name+\" roll \"+str(s.rollno)+\" major \"+s.major+\" is active: \"+str(s.is_active))\n",
    "        s.honor_roll()"
   ]
  },
  {
   "cell_type": "code",
   "execution_count": 40,
   "metadata": {},
   "outputs": [
    {
     "name": "stdout",
     "output_type": "stream",
     "text": [
      "name Pankaj roll 23472 major science is active: True\n",
      "student is honor_roll\n",
      "name Ram roll 23572 major STEM is active: True\n",
      "student is not honor_roll\n",
      "name Shyam roll 246572 major STEM is active: True\n",
      "student is honor_roll\n",
      "name Mary roll 245572 major STEM is active: True\n",
      "student is honor_roll\n"
     ]
    }
   ],
   "source": [
    "check_honor_roll(students)"
   ]
  },
  {
   "cell_type": "code",
   "execution_count": null,
   "metadata": {},
   "outputs": [],
   "source": []
  }
 ],
 "metadata": {
  "kernelspec": {
   "display_name": "Python [conda env:PankajEnv]",
   "language": "python",
   "name": "conda-env-PankajEnv-py"
  },
  "language_info": {
   "codemirror_mode": {
    "name": "ipython",
    "version": 3
   },
   "file_extension": ".py",
   "mimetype": "text/x-python",
   "name": "python",
   "nbconvert_exporter": "python",
   "pygments_lexer": "ipython3",
   "version": "3.7.1"
  }
 },
 "nbformat": 4,
 "nbformat_minor": 2
}
