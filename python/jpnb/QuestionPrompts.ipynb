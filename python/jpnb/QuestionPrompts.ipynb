{
 "cells": [
  {
   "cell_type": "code",
   "execution_count": 1,
   "metadata": {},
   "outputs": [],
   "source": [
    "question_prompts = [\n",
    "    \"What is the color of apple ? \\n(a) red \\n(b)green \\n(c) white \\n(d)magenta \\n\\n\",\n",
    "    \"What is the color of bananna ? \\n(a) yellow \\n(b)green \\n(c) white \\n(d)magenta \\n\\n\",\n",
    "    \"What is the color of grapefruit ? \\n(a) red \\n(b)orange \\n(c) white \\n(d)magenta \\n\\n\"\n",
    "]"
   ]
  },
  {
   "cell_type": "code",
   "execution_count": 2,
   "metadata": {},
   "outputs": [
    {
     "data": {
      "text/plain": [
       "['What is the color of apple ? \\n(a) red \\n(b)green \\n(c) white \\n(d)magenta \\n\\n',\n",
       " 'What is the color of bananna ? \\n(a) yellow \\n(b)green \\n(c) white \\n(d)magenta \\n\\n',\n",
       " 'What is the color of grapefruit ? \\n(a) red \\n(b)orange \\n(c) white \\n(d)magenta \\n\\n']"
      ]
     },
     "execution_count": 2,
     "metadata": {},
     "output_type": "execute_result"
    }
   ],
   "source": [
    "question_prompts"
   ]
  },
  {
   "cell_type": "code",
   "execution_count": 18,
   "metadata": {},
   "outputs": [],
   "source": [
    "class Question:\n",
    "    def __init__ (self, prompt, answer):\n",
    "        self.prompt = prompt\n",
    "        self.answer = answer"
   ]
  },
  {
   "cell_type": "code",
   "execution_count": 19,
   "metadata": {},
   "outputs": [],
   "source": [
    "questions =[\n",
    "    Question(question_prompts[0],\"a\"),\n",
    "    Question(question_prompts[1],\"a\"),\n",
    "    Question(question_prompts[2],\"b\")\n",
    "]"
   ]
  },
  {
   "cell_type": "code",
   "execution_count": 20,
   "metadata": {},
   "outputs": [
    {
     "data": {
      "text/plain": [
       "[<__main__.Question at 0x1088be978>,\n",
       " <__main__.Question at 0x1088be9b0>,\n",
       " <__main__.Question at 0x1088be9e8>]"
      ]
     },
     "execution_count": 20,
     "metadata": {},
     "output_type": "execute_result"
    }
   ],
   "source": [
    "questions"
   ]
  },
  {
   "cell_type": "code",
   "execution_count": 24,
   "metadata": {},
   "outputs": [],
   "source": [
    "def run_test():\n",
    "    score=0;\n",
    "    for question in questions:\n",
    "        print(question)\n",
    "        ans = input(question.prompt)\n",
    "        if ans == question.answer:\n",
    "            score+=1;\n",
    "            \n",
    "    print(\"Your got \" +str(score)+ \"/\" +str(len(questions)))\n",
    "    "
   ]
  },
  {
   "cell_type": "code",
   "execution_count": 25,
   "metadata": {},
   "outputs": [
    {
     "name": "stdout",
     "output_type": "stream",
     "text": [
      "<__main__.Question object at 0x1088be978>\n",
      "What is the color of apple ? \n",
      "(a) red \n",
      "(b)green \n",
      "(c) white \n",
      "(d)magenta \n",
      "\n",
      "a\n",
      "<__main__.Question object at 0x1088be9b0>\n",
      "What is the color of bananna ? \n",
      "(a) yellow \n",
      "(b)green \n",
      "(c) white \n",
      "(d)magenta \n",
      "\n",
      "a\n",
      "<__main__.Question object at 0x1088be9e8>\n",
      "What is the color of grapefruit ? \n",
      "(a) red \n",
      "(b)orange \n",
      "(c) white \n",
      "(d)magenta \n",
      "\n",
      "b\n",
      "Your got 3/3\n"
     ]
    }
   ],
   "source": [
    "run_test();"
   ]
  },
  {
   "cell_type": "code",
   "execution_count": null,
   "metadata": {},
   "outputs": [],
   "source": []
  }
 ],
 "metadata": {
  "kernelspec": {
   "display_name": "Python [conda env:PankajEnv]",
   "language": "python",
   "name": "conda-env-PankajEnv-py"
  },
  "language_info": {
   "codemirror_mode": {
    "name": "ipython",
    "version": 3
   },
   "file_extension": ".py",
   "mimetype": "text/x-python",
   "name": "python",
   "nbconvert_exporter": "python",
   "pygments_lexer": "ipython3",
   "version": "3.7.1"
  }
 },
 "nbformat": 4,
 "nbformat_minor": 2
}
